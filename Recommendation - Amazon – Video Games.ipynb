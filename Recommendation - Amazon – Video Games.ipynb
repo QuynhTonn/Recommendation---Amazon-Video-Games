{
 "cells": [
  {
   "cell_type": "code",
   "execution_count": 1,
   "metadata": {
    "id": "fUH0flWWRuCI"
   },
   "outputs": [],
   "source": [
    "import findspark\n",
    "findspark.init()"
   ]
  },
  {
   "cell_type": "code",
   "execution_count": 2,
   "metadata": {
    "id": "sJJk60L2R3i-"
   },
   "outputs": [],
   "source": [
    "from pyspark.sql import SparkSession\n",
    "from pyspark import SparkContext\n",
    "from pyspark.sql import SQLContext\n",
    "from pyspark.ml.evaluation import RegressionEvaluator\n",
    "from pyspark.ml.recommendation import ALS\n",
    "from pyspark.sql.functions import col, explode"
   ]
  },
  {
   "cell_type": "code",
   "execution_count": 3,
   "metadata": {
    "id": "CL4YLpFLR6SX"
   },
   "outputs": [],
   "source": [
    "SparkContext.setSystemProperty('spark.executor.memory','12g')\n",
    "sc = SparkContext(master='local', appName='Recommendation_VideoGame')"
   ]
  },
  {
   "cell_type": "code",
   "execution_count": 4,
   "metadata": {
    "id": "L43gHXi-R76G"
   },
   "outputs": [],
   "source": [
    "spark = SparkSession(sc)"
   ]
  },
  {
   "cell_type": "code",
   "execution_count": 5,
   "metadata": {
    "id": "DbKiU7RfR_V2"
   },
   "outputs": [],
   "source": [
    "data = spark.read.json('Du lieu cung cap/reviews_Video_Games_5.json.gz')"
   ]
  },
  {
   "cell_type": "code",
   "execution_count": 6,
   "metadata": {
    "colab": {
     "base_uri": "https://localhost:8080/"
    },
    "id": "e9AxO6eVSA53",
    "outputId": "80e46c0e-c7b0-4519-aecb-5d91abb5ba10"
   },
   "outputs": [
    {
     "name": "stdout",
     "output_type": "stream",
     "text": [
      "+----------+-------+-------+--------------------+-----------+--------------+--------------------+--------------------+--------------+\n",
      "|      asin|helpful|overall|          reviewText| reviewTime|    reviewerID|        reviewerName|             summary|unixReviewTime|\n",
      "+----------+-------+-------+--------------------+-----------+--------------+--------------------+--------------------+--------------+\n",
      "|0700099867|[8, 12]|    1.0|Installing the ga...| 07 9, 2012|A2HD75EMZR8QLN|                 123|Pay to unlock con...|    1341792000|\n",
      "|0700099867| [0, 0]|    4.0|If you like rally...|06 30, 2013|A3UR8NLLY1ZHCX|Alejandro Henao \"...|     Good rally game|    1372550400|\n",
      "|0700099867| [0, 0]|    1.0|1st shipment rece...|06 28, 2014|A1INA0F5CWW3J4|Amazon Shopper \"M...|           Wrong key|    1403913600|\n",
      "|0700099867|[7, 10]|    3.0|I got this versio...|09 14, 2011|A1DLMTOTHQ4AST|            ampgreen|awesome game, if ...|    1315958400|\n",
      "|0700099867| [2, 2]|    4.0|I had Dirt 2 on X...|06 14, 2011|A361M14PU2GUEG|Angry Ryan \"Ryan ...|              DIRT 3|    1308009600|\n",
      "+----------+-------+-------+--------------------+-----------+--------------+--------------------+--------------------+--------------+\n",
      "only showing top 5 rows\n",
      "\n"
     ]
    }
   ],
   "source": [
    "data.show(5, truncate=True)"
   ]
  },
  {
   "cell_type": "code",
   "execution_count": 7,
   "metadata": {},
   "outputs": [],
   "source": [
    "data_sub = data.select(['asin','overall','reviewerID'])"
   ]
  },
  {
   "cell_type": "code",
   "execution_count": 8,
   "metadata": {},
   "outputs": [
    {
     "data": {
      "text/plain": [
       "231780"
      ]
     },
     "execution_count": 8,
     "metadata": {},
     "output_type": "execute_result"
    }
   ],
   "source": [
    "data_sub.count()"
   ]
  },
  {
   "cell_type": "code",
   "execution_count": 9,
   "metadata": {},
   "outputs": [
    {
     "name": "stdout",
     "output_type": "stream",
     "text": [
      "root\n",
      " |-- asin: string (nullable = true)\n",
      " |-- overall: double (nullable = true)\n",
      " |-- reviewerID: string (nullable = true)\n",
      "\n"
     ]
    }
   ],
   "source": [
    "data_sub.printSchema()"
   ]
  },
  {
   "cell_type": "code",
   "execution_count": 10,
   "metadata": {},
   "outputs": [],
   "source": [
    "from pyspark.sql.types import DoubleType\n",
    "from pyspark.sql.functions import isnan, when, count, col, udf"
   ]
  },
  {
   "cell_type": "code",
   "execution_count": 11,
   "metadata": {},
   "outputs": [],
   "source": [
    "data_sub = data_sub.withColumn('overall', data_sub[\"overall\"].cast(DoubleType()))"
   ]
  },
  {
   "cell_type": "code",
   "execution_count": 12,
   "metadata": {},
   "outputs": [
    {
     "data": {
      "text/html": [
       "<div>\n",
       "<style scoped>\n",
       "    .dataframe tbody tr th:only-of-type {\n",
       "        vertical-align: middle;\n",
       "    }\n",
       "\n",
       "    .dataframe tbody tr th {\n",
       "        vertical-align: top;\n",
       "    }\n",
       "\n",
       "    .dataframe thead th {\n",
       "        text-align: right;\n",
       "    }\n",
       "</style>\n",
       "<table border=\"1\" class=\"dataframe\">\n",
       "  <thead>\n",
       "    <tr style=\"text-align: right;\">\n",
       "      <th></th>\n",
       "      <th>0</th>\n",
       "    </tr>\n",
       "  </thead>\n",
       "  <tbody>\n",
       "    <tr>\n",
       "      <th>asin</th>\n",
       "      <td>0</td>\n",
       "    </tr>\n",
       "    <tr>\n",
       "      <th>overall</th>\n",
       "      <td>0</td>\n",
       "    </tr>\n",
       "    <tr>\n",
       "      <th>reviewerID</th>\n",
       "      <td>0</td>\n",
       "    </tr>\n",
       "  </tbody>\n",
       "</table>\n",
       "</div>"
      ],
      "text/plain": [
       "            0\n",
       "asin        0\n",
       "overall     0\n",
       "reviewerID  0"
      ]
     },
     "execution_count": 12,
     "metadata": {},
     "output_type": "execute_result"
    }
   ],
   "source": [
    "data_sub.select([count(when(col(c).isNull(), c)).alias(c) for c in \n",
    "           data_sub.columns]).toPandas().T"
   ]
  },
  {
   "cell_type": "code",
   "execution_count": 13,
   "metadata": {},
   "outputs": [],
   "source": [
    "# Distinct users and movies\n",
    "users = data.select(\"reviewerId\").distinct().count()\n",
    "products = data.select(\"asin\").distinct().count()\n",
    "numerator = data.count()"
   ]
  },
  {
   "cell_type": "code",
   "execution_count": 14,
   "metadata": {},
   "outputs": [
    {
     "data": {
      "text/plain": [
       "231780"
      ]
     },
     "metadata": {},
     "output_type": "display_data"
    },
    {
     "data": {
      "text/plain": [
       "24303"
      ]
     },
     "metadata": {},
     "output_type": "display_data"
    },
    {
     "data": {
      "text/plain": [
       "10672"
      ]
     },
     "metadata": {},
     "output_type": "display_data"
    }
   ],
   "source": [
    "display(numerator, users, products)"
   ]
  },
  {
   "cell_type": "code",
   "execution_count": 15,
   "metadata": {},
   "outputs": [
    {
     "data": {
      "text/plain": [
       "259361616"
      ]
     },
     "execution_count": 15,
     "metadata": {},
     "output_type": "execute_result"
    }
   ],
   "source": [
    "# Number of rating matrix could contain if no empty cells\n",
    "denominator = users * products\n",
    "denominator"
   ]
  },
  {
   "cell_type": "code",
   "execution_count": 16,
   "metadata": {},
   "outputs": [
    {
     "name": "stdout",
     "output_type": "stream",
     "text": [
      "sparsity:\n"
     ]
    },
    {
     "data": {
      "text/plain": [
       "(None, 0.9991063442479476)"
      ]
     },
     "execution_count": 16,
     "metadata": {},
     "output_type": "execute_result"
    }
   ],
   "source": [
    "sparsity = 1- (numerator * 1.0/ denominator)\n",
    "print(\"sparsity:\"), sparsity"
   ]
  },
  {
   "cell_type": "markdown",
   "metadata": {},
   "source": [
    "### Chuẩn hóa dữ liệu, chuyển đổi dữ liệu"
   ]
  },
  {
   "cell_type": "code",
   "execution_count": 17,
   "metadata": {},
   "outputs": [],
   "source": [
    "from pyspark.ml.feature import StringIndexer\n",
    "from pyspark.ml import Pipeline\n",
    "from pyspark.sql.functions import col"
   ]
  },
  {
   "cell_type": "code",
   "execution_count": 18,
   "metadata": {},
   "outputs": [],
   "source": [
    "indexer = StringIndexer(inputCol='asin',\n",
    "                        outputCol='asin_idx')\n",
    "data_indexed = indexer.fit(data_sub).transform(data_sub)\n",
    "\n",
    "indexer1 = StringIndexer(inputCol='reviewerID',\n",
    "                        outputCol='reviewerID_idx')\n",
    "data_indexed = indexer1.fit(data_indexed).transform(data_indexed)"
   ]
  },
  {
   "cell_type": "code",
   "execution_count": 19,
   "metadata": {},
   "outputs": [
    {
     "name": "stdout",
     "output_type": "stream",
     "text": [
      "+----------+-------+--------------+--------+--------------+\n",
      "|      asin|overall|    reviewerID|asin_idx|reviewerID_idx|\n",
      "+----------+-------+--------------+--------+--------------+\n",
      "|0700099867|    1.0|A2HD75EMZR8QLN|  2269.0|       14157.0|\n",
      "|0700099867|    4.0|A3UR8NLLY1ZHCX|  2269.0|       22489.0|\n",
      "|0700099867|    1.0|A1INA0F5CWW3J4|  2269.0|        7934.0|\n",
      "|0700099867|    3.0|A1DLMTOTHQ4AST|  2269.0|        7852.0|\n",
      "|0700099867|    4.0|A361M14PU2GUEG|  2269.0|         847.0|\n",
      "+----------+-------+--------------+--------+--------------+\n",
      "only showing top 5 rows\n",
      "\n"
     ]
    }
   ],
   "source": [
    "data_indexed.show(5, truncate=True)"
   ]
  },
  {
   "cell_type": "markdown",
   "metadata": {},
   "source": [
    "### Train model"
   ]
  },
  {
   "cell_type": "code",
   "execution_count": 20,
   "metadata": {},
   "outputs": [],
   "source": [
    "# Chia dữ liệu train_test\n",
    "# Smaller dataset so we will use 0.8/0.2\n",
    "(training, test)= data_indexed.randomSplit([0.8,0.2])"
   ]
  },
  {
   "cell_type": "code",
   "execution_count": 21,
   "metadata": {},
   "outputs": [],
   "source": [
    "# xây dựng model\n",
    "from pyspark.ml.evaluation import RegressionEvaluator\n",
    "from pyspark.ml.recommendation import ALS\n",
    "\n",
    "als = ALS(maxIter=10,\n",
    "          regParam=0.09,\n",
    "          rank=25,\n",
    "          userCol=\"reviewerID_idx\",\n",
    "          itemCol=\"asin_idx\",\n",
    "          ratingCol=\"overall\",\n",
    "          coldStartStrategy=\"drop\",\n",
    "          nonnegative=True)\n",
    "model = als.fit(training)\n",
    "# rank cho to hơn vì phim nhiều và user nhiều"
   ]
  },
  {
   "cell_type": "code",
   "execution_count": 22,
   "metadata": {},
   "outputs": [
    {
     "name": "stdout",
     "output_type": "stream",
     "text": [
      "+-------+------------------+\n",
      "|summary|           overall|\n",
      "+-------+------------------+\n",
      "|  count|            231780|\n",
      "|   mean| 4.086396582966606|\n",
      "| stddev|1.2023296087789057|\n",
      "|    min|               1.0|\n",
      "|    max|               5.0|\n",
      "+-------+------------------+\n",
      "\n"
     ]
    }
   ],
   "source": [
    "data_indexed.select(\"overall\").describe().show()"
   ]
  },
  {
   "cell_type": "markdown",
   "metadata": {},
   "source": [
    "### Đánh giá kết quả"
   ]
  },
  {
   "cell_type": "code",
   "execution_count": 23,
   "metadata": {},
   "outputs": [],
   "source": [
    "predictions = model.transform(test)"
   ]
  },
  {
   "cell_type": "code",
   "execution_count": 24,
   "metadata": {},
   "outputs": [
    {
     "name": "stdout",
     "output_type": "stream",
     "text": [
      "+----------+-------+--------------+--------+--------------+----------+\n",
      "|      asin|overall|    reviewerID|asin_idx|reviewerID_idx|prediction|\n",
      "+----------+-------+--------------+--------+--------------+----------+\n",
      "|B00BMFIXT2|    4.0|A1VQBEW0G4IH1J|   148.0|       18652.0|  3.787307|\n",
      "|B00BMFIXT2|    3.0|A2YJ1K8M0KPHMF|   148.0|          93.0| 3.7883072|\n",
      "|B00BMFIXT2|    5.0|A19BG3PQ0DMYPF|   148.0|       17377.0|  4.573931|\n",
      "|B00BMFIXT2|    5.0| A9PAC5VFTDQHF|   148.0|          94.0|  4.068368|\n",
      "|B00BMFIXT2|    5.0|A369H7AU0HYUAT|   148.0|        4846.0|  4.987848|\n",
      "+----------+-------+--------------+--------+--------------+----------+\n",
      "only showing top 5 rows\n",
      "\n"
     ]
    }
   ],
   "source": [
    "predictions.show(5)"
   ]
  },
  {
   "cell_type": "code",
   "execution_count": 25,
   "metadata": {},
   "outputs": [],
   "source": [
    "from pyspark.ml.evaluation import RegressionEvaluator"
   ]
  },
  {
   "cell_type": "code",
   "execution_count": 26,
   "metadata": {},
   "outputs": [
    {
     "name": "stdout",
     "output_type": "stream",
     "text": [
      "Root-mean square error = 1.2081450851042443\n"
     ]
    }
   ],
   "source": [
    "evaluator = RegressionEvaluator(metricName='rmse',\n",
    "                                labelCol=\"overall\",\n",
    "                                predictionCol=\"prediction\")\n",
    "rmse = evaluator.evaluate(predictions)\n",
    "print(\"Root-mean square error = \"+ str(rmse))"
   ]
  },
  {
   "cell_type": "markdown",
   "metadata": {},
   "source": [
    "### Hiệu chỉnh tham số (tunning parameter)"
   ]
  },
  {
   "cell_type": "code",
   "execution_count": 27,
   "metadata": {},
   "outputs": [],
   "source": [
    "als_t = ALS(maxIter=10,\n",
    "          regParam=0.1,\n",
    "          rank = 30,\n",
    "          userCol=\"reviewerID_idx\",\n",
    "          itemCol=\"asin_idx\",\n",
    "          ratingCol=\"overall\",\n",
    "          coldStartStrategy=\"drop\",\n",
    "          nonnegative=True)\n",
    "model_t = als_t.fit(training)"
   ]
  },
  {
   "cell_type": "code",
   "execution_count": 28,
   "metadata": {},
   "outputs": [],
   "source": [
    "predictions_t = model_t.transform(test)"
   ]
  },
  {
   "cell_type": "code",
   "execution_count": 29,
   "metadata": {},
   "outputs": [
    {
     "name": "stdout",
     "output_type": "stream",
     "text": [
      "Root-mean square error = 1.2002357025505224\n"
     ]
    }
   ],
   "source": [
    "rmse_t = evaluator.evaluate(predictions_t)\n",
    "print(\"Root-mean square error = \"+ str(rmse_t))"
   ]
  },
  {
   "cell_type": "markdown",
   "metadata": {},
   "source": [
    "Nhận xét: Tốt hơn vì rmse nhỏ hơn nên sẽ sử dụng model này"
   ]
  },
  {
   "cell_type": "markdown",
   "metadata": {},
   "source": [
    "### Đưa ra đề xuất cho tất cả users"
   ]
  },
  {
   "cell_type": "code",
   "execution_count": 30,
   "metadata": {},
   "outputs": [],
   "source": [
    "# Get 5 recommendations which have highest rating\n",
    "user_recs = model_t.recommendForAllUsers(5)"
   ]
  },
  {
   "cell_type": "code",
   "execution_count": 31,
   "metadata": {},
   "outputs": [
    {
     "name": "stdout",
     "output_type": "stream",
     "text": [
      "+--------------+-----------------------------------------------------------------------------------------------+\n",
      "|reviewerID_idx|recommendations                                                                                |\n",
      "+--------------+-----------------------------------------------------------------------------------------------+\n",
      "|1580          |[{6067, 5.973857}, {6582, 5.6582165}, {6190, 5.654786}, {5437, 5.6509037}, {4651, 5.6392984}]  |\n",
      "|4900          |[{6067, 6.138893}, {8935, 5.8081117}, {5437, 5.7383227}, {10027, 5.6957746}, {10527, 5.668173}]|\n",
      "|5300          |[{3811, 5.3455973}, {6067, 5.196928}, {1389, 5.1456923}, {4651, 5.0612917}, {3559, 5.059187}]  |\n",
      "|6620          |[{3811, 5.568969}, {4651, 5.547037}, {6067, 5.518276}, {3964, 5.4003363}, {8956, 5.332127}]    |\n",
      "|7240          |[{9095, 5.986202}, {8935, 5.8964634}, {7425, 5.892434}, {6024, 5.8868823}, {1884, 5.839867}]   |\n",
      "|7340          |[{6067, 5.060079}, {6190, 5.0509815}, {5531, 4.8464823}, {5437, 4.8339524}, {8272, 4.8106194}] |\n",
      "|7880          |[{8210, 5.3767843}, {2931, 5.3734818}, {1884, 5.2223763}, {6067, 5.2151203}, {9536, 5.1405745}]|\n",
      "|9900          |[{6067, 5.317478}, {10527, 5.0722795}, {4679, 5.0525603}, {5437, 5.040858}, {10027, 5.018281}] |\n",
      "|12940         |[{6067, 5.091988}, {6582, 5.0077667}, {3559, 4.9807873}, {10027, 4.977708}, {5437, 4.9317627}] |\n",
      "|13840         |[{6067, 5.149393}, {5437, 5.0460224}, {9442, 5.0438504}, {8956, 5.0013804}, {6582, 4.9070153}] |\n",
      "+--------------+-----------------------------------------------------------------------------------------------+\n",
      "only showing top 10 rows\n",
      "\n"
     ]
    }
   ],
   "source": [
    "user_recs.show(10,truncate=False)"
   ]
  },
  {
   "cell_type": "code",
   "execution_count": 32,
   "metadata": {},
   "outputs": [
    {
     "name": "stdout",
     "output_type": "stream",
     "text": [
      "root\n",
      " |-- reviewerID_idx: integer (nullable = false)\n",
      " |-- recommendations: array (nullable = true)\n",
      " |    |-- element: struct (containsNull = true)\n",
      " |    |    |-- asin_idx: integer (nullable = true)\n",
      " |    |    |-- rating: float (nullable = true)\n",
      "\n"
     ]
    }
   ],
   "source": [
    "user_recs.printSchema()"
   ]
  },
  {
   "cell_type": "code",
   "execution_count": 33,
   "metadata": {},
   "outputs": [
    {
     "name": "stdout",
     "output_type": "stream",
     "text": [
      "Row(reviewerID_idx=1580, recommendations=[Row(asin_idx=6067, rating=5.9738569259643555), Row(asin_idx=6582, rating=5.65821647644043), Row(asin_idx=6190, rating=5.654786109924316), Row(asin_idx=5437, rating=5.650903701782227), Row(asin_idx=4651, rating=5.639298439025879)])\n",
      "\n",
      "\n",
      "Row(reviewerID_idx=4900, recommendations=[Row(asin_idx=6067, rating=6.138893127441406), Row(asin_idx=8935, rating=5.808111667633057), Row(asin_idx=5437, rating=5.738322734832764), Row(asin_idx=10027, rating=5.695774555206299), Row(asin_idx=10527, rating=5.668172836303711)])\n",
      "\n",
      "\n",
      "Row(reviewerID_idx=5300, recommendations=[Row(asin_idx=3811, rating=5.345597267150879), Row(asin_idx=6067, rating=5.196928024291992), Row(asin_idx=1389, rating=5.145692348480225), Row(asin_idx=4651, rating=5.061291694641113), Row(asin_idx=3559, rating=5.059186935424805)])\n",
      "\n",
      "\n"
     ]
    }
   ],
   "source": [
    "for user in user_recs.head(3):\n",
    "    print(user)\n",
    "    print(\"\\n\")"
   ]
  },
  {
   "cell_type": "markdown",
   "metadata": {},
   "source": [
    "### Save to file"
   ]
  },
  {
   "cell_type": "code",
   "execution_count": 34,
   "metadata": {},
   "outputs": [],
   "source": [
    "from time import time"
   ]
  },
  {
   "cell_type": "code",
   "execution_count": 35,
   "metadata": {},
   "outputs": [],
   "source": [
    "t0 = time()"
   ]
  },
  {
   "cell_type": "code",
   "execution_count": 36,
   "metadata": {},
   "outputs": [],
   "source": [
    "df_reviewer_reviewer_id = data_indexed.select('reviewerID_idx', 'reviewerID').distinct()"
   ]
  },
  {
   "cell_type": "code",
   "execution_count": 37,
   "metadata": {},
   "outputs": [
    {
     "data": {
      "text/plain": [
       "24303"
      ]
     },
     "execution_count": 37,
     "metadata": {},
     "output_type": "execute_result"
    }
   ],
   "source": [
    "df_reviewer_reviewer_id.count()"
   ]
  },
  {
   "cell_type": "code",
   "execution_count": 38,
   "metadata": {},
   "outputs": [
    {
     "name": "stdout",
     "output_type": "stream",
     "text": [
      "+--------------+--------------+\n",
      "|reviewerID_idx|    reviewerID|\n",
      "+--------------+--------------+\n",
      "|       20806.0|A2ZYJOZO6BPV6K|\n",
      "|         735.0|A3TQTYD0D6AUO3|\n",
      "|        2580.0|A2QVKLB1VT903K|\n",
      "|        9117.0|A3OMBKL5EOHA36|\n",
      "|        2945.0|A2NWQA506BES77|\n",
      "+--------------+--------------+\n",
      "only showing top 5 rows\n",
      "\n"
     ]
    }
   ],
   "source": [
    "df_reviewer_reviewer_id.show(5)"
   ]
  },
  {
   "cell_type": "code",
   "execution_count": 39,
   "metadata": {},
   "outputs": [],
   "source": [
    "df_asin_asin_id = data_indexed.select('asin_idx', 'asin').distinct()"
   ]
  },
  {
   "cell_type": "code",
   "execution_count": 40,
   "metadata": {},
   "outputs": [
    {
     "data": {
      "text/plain": [
       "10672"
      ]
     },
     "execution_count": 40,
     "metadata": {},
     "output_type": "execute_result"
    }
   ],
   "source": [
    "df_asin_asin_id.count()"
   ]
  },
  {
   "cell_type": "code",
   "execution_count": 41,
   "metadata": {},
   "outputs": [
    {
     "name": "stdout",
     "output_type": "stream",
     "text": [
      "+--------+----------+\n",
      "|asin_idx|      asin|\n",
      "+--------+----------+\n",
      "|   883.0|B000038IFX|\n",
      "|  2005.0|B00005Q8J1|\n",
      "|  4809.0|B00005YYFE|\n",
      "|  3085.0|B00006F2ZR|\n",
      "|  4821.0|B00007KUW5|\n",
      "+--------+----------+\n",
      "only showing top 5 rows\n",
      "\n"
     ]
    }
   ],
   "source": [
    "df_asin_asin_id.show(5)"
   ]
  },
  {
   "cell_type": "code",
   "execution_count": 42,
   "metadata": {},
   "outputs": [],
   "source": [
    "new_user_recs = user_recs.join(df_reviewer_reviewer_id, on=['reviewerID_idx'], how=\"left\")"
   ]
  },
  {
   "cell_type": "code",
   "execution_count": 43,
   "metadata": {},
   "outputs": [
    {
     "name": "stdout",
     "output_type": "stream",
     "text": [
      "+--------------+----------------------------------------------------------------------------------------------+--------------+\n",
      "|reviewerID_idx|recommendations                                                                               |reviewerID    |\n",
      "+--------------+----------------------------------------------------------------------------------------------+--------------+\n",
      "|299           |[{6067, 6.39593}, {8685, 6.2984905}, {9342, 6.2089605}, {1691, 6.1321745}, {1389, 6.080168}]  |A357A1TI51VT1S|\n",
      "|305           |[{4651, 5.729057}, {6067, 5.4909596}, {6190, 5.4886765}, {6860, 5.4625597}, {8956, 5.4054456}]|A150XV12S9HAZ |\n",
      "|496           |[{6067, 5.7689414}, {6582, 5.7520547}, {8956, 5.516962}, {3964, 5.5011563}, {8019, 5.4669366}]|A12WZTC4YJ8ZEC|\n",
      "|558           |[{6067, 5.5897017}, {4651, 5.5648694}, {8956, 5.4224405}, {3964, 5.406923}, {5437, 5.3940496}]|A1Y5LUJZ8879PP|\n",
      "|596           |[{6159, 5.5026884}, {3811, 5.458193}, {10527, 5.4280777}, {6580, 5.4014454}, {6067, 5.30044}] |A1S28QB8SQKM8H|\n",
      "|692           |[{6067, 5.6580215}, {3964, 5.589208}, {4651, 5.5537877}, {5437, 5.543192}, {8956, 5.5265326}] |AOXX0U2T2BGYM |\n",
      "|769           |[{6067, 5.932166}, {4651, 5.765137}, {1803, 5.734227}, {8935, 5.723852}, {10027, 5.7102513}]  |A2P3V1BG6FMUS5|\n",
      "|934           |[{6067, 5.921591}, {4651, 5.730038}, {1817, 5.5723753}, {3964, 5.56631}, {6791, 5.554265}]    |AVWNB8C5RHUZF |\n",
      "|1051          |[{3811, 6.3496056}, {6067, 6.3097887}, {8210, 6.1151724}, {1389, 6.032275}, {6190, 5.9474053}]|A2ZTKY4SAR20JT|\n",
      "|1761          |[{6582, 5.42692}, {9709, 5.3090715}, {4679, 5.3062286}, {5437, 5.280569}, {4781, 5.2760277}]  |A1FGK3N8GZHGZJ|\n",
      "+--------------+----------------------------------------------------------------------------------------------+--------------+\n",
      "only showing top 10 rows\n",
      "\n"
     ]
    }
   ],
   "source": [
    "new_user_recs.show(10, truncate=False)"
   ]
  },
  {
   "cell_type": "code",
   "execution_count": 44,
   "metadata": {},
   "outputs": [
    {
     "data": {
      "text/plain": [
       "24302"
      ]
     },
     "execution_count": 44,
     "metadata": {},
     "output_type": "execute_result"
    }
   ],
   "source": [
    "new_user_recs.count()"
   ]
  },
  {
   "cell_type": "markdown",
   "metadata": {},
   "source": [
    "### Save to disk"
   ]
  },
  {
   "cell_type": "code",
   "execution_count": 45,
   "metadata": {},
   "outputs": [],
   "source": [
    "new_user_recs.write.parquet('VideoGames_U.parquet', mode='overwrite')\n",
    "df_asin_asin_id.write.parquet('VideoGames_P.parquet', mode='overwrite')"
   ]
  },
  {
   "cell_type": "code",
   "execution_count": 46,
   "metadata": {},
   "outputs": [
    {
     "name": "stdout",
     "output_type": "stream",
     "text": [
      "1642497314.6962535\n"
     ]
    }
   ],
   "source": [
    "time_duration = time() - 10\n",
    "print(time_duration)"
   ]
  },
  {
   "cell_type": "markdown",
   "metadata": {},
   "source": [
    "### Đưa ra đề xuất cho một userid cụ thể"
   ]
  },
  {
   "cell_type": "code",
   "execution_count": 47,
   "metadata": {},
   "outputs": [],
   "source": [
    "reviewerId = \"A29KT7UP7DLM1J\"\n",
    "find_user_rec = new_user_recs.filter(new_user_recs['reviewerId'] == reviewerId)\n",
    "user = find_user_rec.first()\n",
    "\n",
    "lst=[]\n",
    "for row in user['recommendations']:\n",
    "    row_f = df_asin_asin_id.filter(df_asin_asin_id.asin_idx == row['asin_idx'])\n",
    "    row_f_first = row_f.first()\n",
    "    lst.append((row['asin_idx'], row_f_first['asin'], row['rating']))\n",
    "dic_user_rec = {'reviewerID' : user.reviewerID, 'recommendations':lst}"
   ]
  },
  {
   "cell_type": "code",
   "execution_count": 48,
   "metadata": {},
   "outputs": [
    {
     "data": {
      "text/plain": [
       "{'reviewerID': 'A29KT7UP7DLM1J',\n",
       " 'recommendations': [(4532, 'B000G7WGP4', 3.9754128456115723),\n",
       "  (3811, 'B00ATST8HY', 3.94747257232666),\n",
       "  (9084, 'B005GWU1M4', 3.875537872314453),\n",
       "  (3964, 'B001J5SFC0', 3.854609489440918),\n",
       "  (8095, 'B007TY84MG', 3.809636116027832)]}"
      ]
     },
     "execution_count": 48,
     "metadata": {},
     "output_type": "execute_result"
    }
   ],
   "source": [
    "dic_user_rec"
   ]
  },
  {
   "cell_type": "markdown",
   "metadata": {},
   "source": [
    "### Đọc 2 file đã lưu để lấy dữ liệu đầu vào => Đề xuất"
   ]
  },
  {
   "cell_type": "code",
   "execution_count": 49,
   "metadata": {},
   "outputs": [],
   "source": [
    "new_user_recs = spark.read.parquet('VideoGames_U.parquet')"
   ]
  },
  {
   "cell_type": "code",
   "execution_count": 50,
   "metadata": {},
   "outputs": [
    {
     "name": "stdout",
     "output_type": "stream",
     "text": [
      "root\n",
      " |-- reviewerID_idx: integer (nullable = true)\n",
      " |-- recommendations: array (nullable = true)\n",
      " |    |-- element: struct (containsNull = true)\n",
      " |    |    |-- asin_idx: integer (nullable = true)\n",
      " |    |    |-- rating: float (nullable = true)\n",
      " |-- reviewerID: string (nullable = true)\n",
      "\n"
     ]
    }
   ],
   "source": [
    "new_user_recs.printSchema()"
   ]
  },
  {
   "cell_type": "code",
   "execution_count": 51,
   "metadata": {},
   "outputs": [
    {
     "name": "stdout",
     "output_type": "stream",
     "text": [
      "+--------------+--------------------+--------------+\n",
      "|reviewerID_idx|     recommendations|    reviewerID|\n",
      "+--------------+--------------------+--------------+\n",
      "|           255|[{6067, 6.249302}...|A3KKM0T1KY42HA|\n",
      "|           271|[{6067, 6.408162}...|A39CYUXTVGQSCF|\n",
      "+--------------+--------------------+--------------+\n",
      "only showing top 2 rows\n",
      "\n"
     ]
    }
   ],
   "source": [
    "new_user_recs.show(2)"
   ]
  },
  {
   "cell_type": "code",
   "execution_count": 52,
   "metadata": {},
   "outputs": [],
   "source": [
    "df_asin_asin_id = spark.read.parquet('VideoGames_P.parquet')"
   ]
  },
  {
   "cell_type": "code",
   "execution_count": 53,
   "metadata": {},
   "outputs": [
    {
     "name": "stdout",
     "output_type": "stream",
     "text": [
      "+--------+----------+\n",
      "|asin_idx|      asin|\n",
      "+--------+----------+\n",
      "|   290.0|B00000F1GM|\n",
      "|  8184.0|B00000JHPN|\n",
      "+--------+----------+\n",
      "only showing top 2 rows\n",
      "\n"
     ]
    }
   ],
   "source": [
    "df_asin_asin_id.show(2)"
   ]
  },
  {
   "cell_type": "code",
   "execution_count": 54,
   "metadata": {},
   "outputs": [
    {
     "name": "stdout",
     "output_type": "stream",
     "text": [
      "+--------------+----------------------------------------------------------------------------------------------+--------------+\n",
      "|reviewerID_idx|recommendations                                                                               |reviewerID    |\n",
      "+--------------+----------------------------------------------------------------------------------------------+--------------+\n",
      "|4622          |[{4532, 3.9754128}, {3811, 3.9474726}, {9084, 3.8755379}, {3964, 3.8546095}, {8095, 3.809636}]|A29KT7UP7DLM1J|\n",
      "+--------------+----------------------------------------------------------------------------------------------+--------------+\n",
      "\n"
     ]
    }
   ],
   "source": [
    "# Recommendation for some users: A29KT7UP7DLM1J, A1WGVOVABHFDF3, A3DIS5O83SQJWW\n",
    "reviewerId = \"A29KT7UP7DLM1J\"\n",
    "find_user_rec = new_user_recs.filter(new_user_recs['reviewerId'] == reviewerId)\n",
    "find_user_rec.show(truncate=False)"
   ]
  },
  {
   "cell_type": "code",
   "execution_count": 55,
   "metadata": {},
   "outputs": [
    {
     "name": "stdout",
     "output_type": "stream",
     "text": [
      "Row(asin_idx=4532, rating=3.9754128456115723)\n",
      "Row(asin_idx=3811, rating=3.94747257232666)\n",
      "Row(asin_idx=9084, rating=3.875537872314453)\n",
      "Row(asin_idx=3964, rating=3.854609489440918)\n",
      "Row(asin_idx=8095, rating=3.809636116027832)\n"
     ]
    }
   ],
   "source": [
    "result = ''\n",
    "for user in find_user_rec.collect():\n",
    "    lst=[]\n",
    "    for row in user['recommendations']:\n",
    "        print(row)\n",
    "        row_f = df_asin_asin_id.filter(df_asin_asin_id.asin_idx == row['asin_idx'])\n",
    "        row_f_first = row_f.first()\n",
    "        lst.append((row['asin_idx'], row_f_first['asin'], row['rating']))\n",
    "    dic_user_rec = {'reviewerID' : user.reviewerID, 'recommendations':lst}\n",
    "    result = dic_user_rec"
   ]
  },
  {
   "cell_type": "code",
   "execution_count": 56,
   "metadata": {},
   "outputs": [
    {
     "name": "stdout",
     "output_type": "stream",
     "text": [
      "+--------------+--------------------------------------------------------------------------------------------+--------------+\n",
      "|reviewerID_idx|recommendations                                                                             |reviewerID    |\n",
      "+--------------+--------------------------------------------------------------------------------------------+--------------+\n",
      "|6623          |[{6067, 5.597731}, {1389, 5.45756}, {3811, 5.4493628}, {5114, 5.383317}, {10460, 5.3671975}]|A1WGVOVABHFDF3|\n",
      "+--------------+--------------------------------------------------------------------------------------------+--------------+\n",
      "\n"
     ]
    }
   ],
   "source": [
    "reviewerId = \"A1WGVOVABHFDF3\"\n",
    "find_user_rec = new_user_recs.filter(new_user_recs['reviewerId'] == reviewerId)\n",
    "find_user_rec.show(truncate=False)"
   ]
  },
  {
   "cell_type": "code",
   "execution_count": 57,
   "metadata": {},
   "outputs": [
    {
     "name": "stdout",
     "output_type": "stream",
     "text": [
      "+--------------+---------------------------------------------------------------------------------------------+--------------+\n",
      "|reviewerID_idx|recommendations                                                                              |reviewerID    |\n",
      "+--------------+---------------------------------------------------------------------------------------------+--------------+\n",
      "|780           |[{6067, 5.777022}, {6582, 5.5520196}, {6955, 5.4805064}, {8935, 5.436106}, {8869, 5.3869433}]|A3DIS5O83SQJWW|\n",
      "+--------------+---------------------------------------------------------------------------------------------+--------------+\n",
      "\n"
     ]
    }
   ],
   "source": [
    "reviewerId = \"A3DIS5O83SQJWW\"\n",
    "find_user_rec = new_user_recs.filter(new_user_recs['reviewerId'] == reviewerId)\n",
    "find_user_rec.show(truncate=False)"
   ]
  }
 ],
 "metadata": {
  "colab": {
   "collapsed_sections": [],
   "name": "demo_Recommender_Students.ipynb",
   "provenance": []
  },
  "kernelspec": {
   "display_name": "Python 3",
   "language": "python",
   "name": "python3"
  },
  "language_info": {
   "codemirror_mode": {
    "name": "ipython",
    "version": 3
   },
   "file_extension": ".py",
   "mimetype": "text/x-python",
   "name": "python",
   "nbconvert_exporter": "python",
   "pygments_lexer": "ipython3",
   "version": "3.8.5"
  }
 },
 "nbformat": 4,
 "nbformat_minor": 1
}
